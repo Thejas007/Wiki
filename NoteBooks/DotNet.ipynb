{
 "cells": [
  {
   "cell_type": "code",
   "execution_count": 1,
   "metadata": {},
   "source": [
    "Console.WriteLine(\"Hello World\");"
   ],
   "outputs": [
    {
     "output_type": "execute_result",
     "data": {
      "text/plain": "Hello World\r\n"
     },
     "execution_count": 1,
     "metadata": {}
    }
   ]
  },
  {
   "cell_type": "code",
   "execution_count": 1,
   "metadata": {},
   "source": [
    "using System;\n",
    "public class Class1 {\n",
    "    \n",
    "    public static Class2 TemplateEntity1 => new Class2{\n",
    "        Id=1\n",
    "    };\n",
    "    \n",
    "    public static readonly Class2 TemplateEntity2 = new Class2{\n",
    "        Id= 1\n",
    "    };   \n",
    "   \n",
    "}\n",
    "\n",
    "public class Class2{\n",
    "public int Id {get;set;}\n",
    "}\n",
    "\n",
    "Console.WriteLine(Class1.TemplateEntity1.Id +\" \"+ Class1.TemplateEntity2.Id);\n",
    "\n",
    "Class1.TemplateEntity1.Id = 2;\n",
    "Class1.TemplateEntity2.Id= 2;\n",
    "\n",
    "Console.WriteLine(Class1.TemplateEntity1.Id +\" \"+ Class1.TemplateEntity2.Id);\n",
    "Console.WriteLine(Class1.TemplateEntity1.Equals(Class1.TemplateEntity2));"
   ],
   "outputs": [
    {
     "output_type": "execute_result",
     "data": {
      "text/plain": "False\r\n"
     },
     "execution_count": 1,
     "metadata": {}
    },
    {
     "output_type": "execute_result",
     "data": {
      "text/plain": "False\r\n"
     },
     "execution_count": 1,
     "metadata": {}
    },
    {
     "output_type": "execute_result",
     "data": {
      "text/plain": "1 1\r\n"
     },
     "execution_count": 1,
     "metadata": {}
    },
    {
     "output_type": "execute_result",
     "data": {
      "text/plain": "1 2\r\n"
     },
     "execution_count": 1,
     "metadata": {}
    },
    {
     "output_type": "execute_result",
     "data": {
      "text/plain": "False\r\n"
     },
     "execution_count": 1,
     "metadata": {}
    }
   ]
  }
 ],
 "metadata": {
  "kernelspec": {
   "display_name": ".NET (C#)",
   "language": "C#",
   "name": ".net-csharp"
  },
  "language_info": {
   "file_extension": ".cs",
   "mimetype": "text/x-csharp",
   "name": "C#",
   "pygments_lexer": "csharp",
   "version": "8.0"
  }
 },
 "nbformat": 4,
 "nbformat_minor": 4
}
